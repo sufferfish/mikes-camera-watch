{
 "cells": [
  {
   "cell_type": "code",
   "execution_count": 1,
   "metadata": {},
   "outputs": [],
   "source": [
    "from bs4 import BeautifulSoup\n",
    "import requests"
   ]
  },
  {
   "cell_type": "code",
   "execution_count": 2,
   "metadata": {},
   "outputs": [],
   "source": [
    "url = \"https://mikescamera.com/used-gear#used-gear-california\"\n",
    "page = requests.get(url)"
   ]
  },
  {
   "cell_type": "code",
   "execution_count": 3,
   "metadata": {},
   "outputs": [],
   "source": [
    "soup = BeautifulSoup(page.content, \"html.parser\")"
   ]
  },
  {
   "cell_type": "code",
   "execution_count": 4,
   "metadata": {},
   "outputs": [
    {
     "data": {
      "text/plain": [
       "'https://docs.google.com/spreadsheets/d/e/2PACX-1vSMKmlrvBlo_xuCv1wfZXdNLyRg3vpV0FW_Lz6DxsmgBmmwS8IxDQSiEV-tOqKnfwtp-KOyuwjDYW49/pubhtml?gid=2102305869&single=true&widget=false&headers=false&chrome=false'"
      ]
     },
     "execution_count": 4,
     "metadata": {},
     "output_type": "execute_result"
    }
   ],
   "source": [
    "ca_used_gear_url = soup.find('iframe', title='California used gear table').attrs['src']\n",
    "ca_used_gear_url"
   ]
  },
  {
   "cell_type": "code",
   "execution_count": 5,
   "metadata": {},
   "outputs": [],
   "source": [
    "gear_list = requests.get(ca_used_gear_url)"
   ]
  },
  {
   "cell_type": "code",
   "execution_count": 6,
   "metadata": {},
   "outputs": [],
   "source": [
    "gear_soup = BeautifulSoup(gear_list.content, 'html.parser')"
   ]
  },
  {
   "cell_type": "code",
   "execution_count": 7,
   "metadata": {},
   "outputs": [],
   "source": [
    "gear = gear_soup.table"
   ]
  },
  {
   "cell_type": "code",
   "execution_count": 8,
   "metadata": {},
   "outputs": [],
   "source": [
    "for th in gear(\"th\"):\n",
    "    th.decompose()"
   ]
  },
  {
   "cell_type": "code",
   "execution_count": 9,
   "metadata": {},
   "outputs": [],
   "source": [
    "# for a in gear(\"a\"):\n",
    "#     a.decompose()"
   ]
  },
  {
   "cell_type": "code",
   "execution_count": 10,
   "metadata": {},
   "outputs": [],
   "source": [
    "gs = gear.find_all('tr')[1:]"
   ]
  },
  {
   "cell_type": "code",
   "execution_count": 11,
   "metadata": {},
   "outputs": [],
   "source": [
    "values = []\n",
    "for string in gs[3].stripped_strings:\n",
    "   values.append(string)"
   ]
  },
  {
   "cell_type": "code",
   "execution_count": null,
   "metadata": {},
   "outputs": [],
   "source": [
    "def cleanup(i: str) -> str|int:\n",
    "    if '$' in i:\n",
    "        return int(i.replace('$ ', '').replace('.00', ''))\n",
    "    else:\n",
    "        try:\n",
    "            return int(i)\n",
    "        except ValueError:\n",
    "            return i"
   ]
  },
  {
   "cell_type": "code",
   "execution_count": 12,
   "metadata": {},
   "outputs": [],
   "source": [
    "def item_dict(tag):\n",
    "    headers = ['ref', 'name', 'price', 'loc', 'num'] \n",
    "    values = []\n",
    "    for string in tag.stripped_strings:\n",
    "        values.append(cleanup(string))\n",
    "\n",
    "    return dict(zip(headers, values))"
   ]
  },
  {
   "cell_type": "code",
   "execution_count": 13,
   "metadata": {},
   "outputs": [],
   "source": [
    "mega_list = []\n",
    "for tag in gs:\n",
    "    mega_list.append(item_dict(tag))"
   ]
  },
  {
   "cell_type": "code",
   "execution_count": 14,
   "metadata": {},
   "outputs": [],
   "source": [
    "import json\n",
    "with open('mike.json', 'w') as f:\n",
    "    json.dump(mega_list, f, indent = 2)"
   ]
  }
 ],
 "metadata": {
  "kernelspec": {
   "display_name": "venv",
   "language": "python",
   "name": "python3"
  },
  "language_info": {
   "codemirror_mode": {
    "name": "ipython",
    "version": 3
   },
   "file_extension": ".py",
   "mimetype": "text/x-python",
   "name": "python",
   "nbconvert_exporter": "python",
   "pygments_lexer": "ipython3",
   "version": "3.11.3"
  },
  "orig_nbformat": 4
 },
 "nbformat": 4,
 "nbformat_minor": 2
}
